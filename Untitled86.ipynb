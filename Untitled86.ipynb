{
  "nbformat": 4,
  "nbformat_minor": 0,
  "metadata": {
    "colab": {
      "provenance": [],
      "gpuType": "T4",
      "authorship_tag": "ABX9TyOiXJM+HoaUI0FGW3oOpERQ",
      "include_colab_link": true
    },
    "kernelspec": {
      "name": "python3",
      "display_name": "Python 3"
    },
    "language_info": {
      "name": "python"
    },
    "accelerator": "GPU"
  },
  "cells": [
    {
      "cell_type": "markdown",
      "metadata": {
        "id": "view-in-github",
        "colab_type": "text"
      },
      "source": [
        "<a href=\"https://colab.research.google.com/github/quantam665/Football-Player-Tracking---Assignment-2/blob/main/Untitled86.ipynb\" target=\"_parent\"><img src=\"https://colab.research.google.com/assets/colab-badge.svg\" alt=\"Open In Colab\"/></a>"
      ]
    },
    {
      "cell_type": "code",
      "execution_count": null,
      "metadata": {
        "colab": {
          "base_uri": "https://localhost:8080/"
        },
        "id": "61dkrhmgJ3xy",
        "outputId": "e31c5133-58cd-4b65-f6f3-6ce44572b68f"
      },
      "outputs": [
        {
          "output_type": "stream",
          "name": "stdout",
          "text": [
            "loading Roboflow workspace...\n",
            "loading Roboflow project...\n"
          ]
        },
        {
          "output_type": "stream",
          "name": "stderr",
          "text": [
            "invalid value encountered in sqrt\n"
          ]
        },
        {
          "output_type": "stream",
          "name": "stdout",
          "text": [
            "✅ DONE: Tracked video saved to: tracked_output.mp4\n"
          ]
        }
      ],
      "source": [
        "import os, cv2, numpy as np\n",
        "from roboflow import Roboflow\n",
        "\n",
        "# ============================\n",
        "# STEP 1: Download from Roboflow\n",
        "# ============================\n",
        "!pip install -q roboflow\n",
        "\n",
        "rf = Roboflow(api_key=\"J7eEZaUtnHXRSSythTrh\")\n",
        "project = rf.workspace(\"football-hecp9\").project(\"short-ujpfd\")\n",
        "version = project.version(1)\n",
        "dataset = version.download(\"yolov11\")\n",
        "\n",
        "image_dir = dataset.location + \"/train/images\"\n",
        "label_dir = dataset.location + \"/train/labels\"\n",
        "output_video = \"tracked_output.mp4\"\n",
        "target_class = \"1\"  # class 1 = player\n",
        "\n",
        "# ============================\n",
        "# STEP 2: Parse YOLO Labels\n",
        "# ============================\n",
        "def parse_yolo_labels(label_dir):\n",
        "    label_map = {}\n",
        "    for file in sorted(os.listdir(label_dir)):\n",
        "        if file.endswith(\".txt\"):\n",
        "            frame_id = os.path.splitext(file)[0]\n",
        "            with open(os.path.join(label_dir, file), 'r') as f:\n",
        "                boxes = []\n",
        "                for line in f:\n",
        "                    parts = line.strip().split()\n",
        "                    if len(parts) == 5 and parts[0] == target_class:\n",
        "                        xc, yc, w, h = map(float, parts[1:])\n",
        "                        boxes.append((xc, yc, w, h))\n",
        "            label_map[frame_id] = boxes\n",
        "    return label_map\n",
        "\n",
        "def box_distance(box1, box2):\n",
        "    xc1, yc1, w1, h1 = box1\n",
        "    xc2, yc2, w2, h2 = box2\n",
        "    center_dist = np.sqrt((xc1 - xc2)*2 + (yc1 - yc2)*2)\n",
        "    size_diff = abs(w1 - w2) + abs(h1 - h2)\n",
        "    return center_dist + 0.5 * size_diff\n",
        "\n",
        "# ============================\n",
        "# STEP 3: Track and Render Frames\n",
        "# ============================\n",
        "def track_and_render(image_dir, label_dir, output_video, max_score=0.1):\n",
        "    labels = parse_yolo_labels(label_dir)\n",
        "    frames = sorted([f for f in os.listdir(image_dir) if f.endswith(\".jpg\")])\n",
        "    sample = cv2.imread(os.path.join(image_dir, frames[0]))\n",
        "    h, w, _ = sample.shape\n",
        "    fps = 15\n",
        "    out = cv2.VideoWriter(output_video, cv2.VideoWriter_fourcc(*'mp4v'), fps, (w, h))\n",
        "\n",
        "    player_db = {}\n",
        "    next_id = 0\n",
        "\n",
        "    for fname in frames:\n",
        "        frame_id = os.path.splitext(fname)[0]\n",
        "        frame = cv2.imread(os.path.join(image_dir, fname))\n",
        "        boxes = labels.get(frame_id, [])\n",
        "        used_ids = set()\n",
        "        draw = frame.copy()\n",
        "\n",
        "        for box in boxes:\n",
        "            best_id, best_score = None, max_score\n",
        "            for pid, prev_box in player_db.items():\n",
        "                score = box_distance(box, prev_box)\n",
        "                if score < best_score and pid not in used_ids:\n",
        "                    best_id, best_score = pid, score\n",
        "            if best_id is None:\n",
        "                best_id = f\"Player_{next_id}\"\n",
        "                next_id += 1\n",
        "            player_db[best_id] = box\n",
        "            used_ids.add(best_id)\n",
        "\n",
        "            # Draw bbox\n",
        "            xc, yc, bw, bh = box\n",
        "            x1 = int((xc - bw / 2) * w)\n",
        "            y1 = int((yc - bh / 2) * h)\n",
        "            x2 = int((xc + bw / 2) * w)\n",
        "            y2 = int((yc + bh / 2) * h)\n",
        "            cv2.rectangle(draw, (x1, y1), (x2, y2), (0, 0, 255), 2)\n",
        "            cv2.putText(draw, best_id, (x1, max(15, y1 - 10)), cv2.FONT_HERSHEY_SIMPLEX, 0.6, (255, 255, 0), 2)\n",
        "\n",
        "        out.write(draw)\n",
        "\n",
        "    out.release()\n",
        "    print(f\"✅ DONE: Tracked video saved to: {output_video}\")\n",
        "\n",
        "# ============================\n",
        "# RUN\n",
        "# ============================\n",
        "track_and_render(image_dir, label_dir, output_video)"
      ]
    },
    {
      "cell_type": "code",
      "source": [
        "from google.colab import files\n",
        "files.download('tracked_output.mp4')\n",
        "\n"
      ],
      "metadata": {
        "colab": {
          "base_uri": "https://localhost:8080/",
          "height": 17
        },
        "id": "OU2aNsxOKIfi",
        "outputId": "1b89a023-d3e3-4972-c74f-75bf4b171fd7"
      },
      "execution_count": null,
      "outputs": [
        {
          "output_type": "display_data",
          "data": {
            "text/plain": [
              "<IPython.core.display.Javascript object>"
            ],
            "application/javascript": [
              "\n",
              "    async function download(id, filename, size) {\n",
              "      if (!google.colab.kernel.accessAllowed) {\n",
              "        return;\n",
              "      }\n",
              "      const div = document.createElement('div');\n",
              "      const label = document.createElement('label');\n",
              "      label.textContent = `Downloading \"${filename}\": `;\n",
              "      div.appendChild(label);\n",
              "      const progress = document.createElement('progress');\n",
              "      progress.max = size;\n",
              "      div.appendChild(progress);\n",
              "      document.body.appendChild(div);\n",
              "\n",
              "      const buffers = [];\n",
              "      let downloaded = 0;\n",
              "\n",
              "      const channel = await google.colab.kernel.comms.open(id);\n",
              "      // Send a message to notify the kernel that we're ready.\n",
              "      channel.send({})\n",
              "\n",
              "      for await (const message of channel.messages) {\n",
              "        // Send a message to notify the kernel that we're ready.\n",
              "        channel.send({})\n",
              "        if (message.buffers) {\n",
              "          for (const buffer of message.buffers) {\n",
              "            buffers.push(buffer);\n",
              "            downloaded += buffer.byteLength;\n",
              "            progress.value = downloaded;\n",
              "          }\n",
              "        }\n",
              "      }\n",
              "      const blob = new Blob(buffers, {type: 'application/binary'});\n",
              "      const a = document.createElement('a');\n",
              "      a.href = window.URL.createObjectURL(blob);\n",
              "      a.download = filename;\n",
              "      div.appendChild(a);\n",
              "      a.click();\n",
              "      div.remove();\n",
              "    }\n",
              "  "
            ]
          },
          "metadata": {}
        },
        {
          "output_type": "display_data",
          "data": {
            "text/plain": [
              "<IPython.core.display.Javascript object>"
            ],
            "application/javascript": [
              "download(\"download_7387c974-2f6a-4bef-ae5b-5baf79888e07\", \"tracked_output.mp4\", 10402247)"
            ]
          },
          "metadata": {}
        }
      ]
    }
  ]
}